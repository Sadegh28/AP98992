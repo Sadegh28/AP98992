{
 "cells": [
  {
   "cell_type": "markdown",
   "metadata": {},
   "source": [
    "<div dir=\"rtl\" style =\"color:blue\" >\n",
    "    <H1>    \n",
    "        برنامه سازی پیشرفته: تمرین شماره 1\n",
    "    </H1> \n",
    "</div>"
   ]
  },
  {
   "cell_type": "markdown",
   "metadata": {},
   "source": [
    "<div dir=\"rtl\" style =\"color:red\" >\n",
    "    <H2>    \n",
    "         نکات:\n",
    "    </H2>\n",
    "    <ul>\n",
    "        <li> پاسخ هر سوال را در همین فایل و در سلول مشخص شده پس از آن وارد کنید. </li>\n",
    "        <li> برای خوانایی بهتر کدهای خود، از توضیحات مناسب استفاده کنید. </li>\n",
    "        <li> پس از پاسخ دهی به تمامی سوالات، همین فایل را در یک فایل زیپ قرار دهید. </li>\n",
    "        <li> نام فایل زیپ شده را برابر با شماره دانشجویی خود قرار دهید. </li>\n",
    "        <li> آخرین مهلت ارسال پاسخ ها: 5 اسفند </li>\n",
    "    </ul>\n",
    "</div>\n"
   ]
  },
  {
   "cell_type": "markdown",
   "metadata": {},
   "source": [
    "---\n",
    "---"
   ]
  },
  {
   "cell_type": "markdown",
   "metadata": {},
   "source": [
    "<div dir=\"rtl\" style=\"color:blue\">\n",
    "    <h3>\n",
    "  برنامه زیر را به گونه ای تکمیل کنید که بزرگترین مقدار \n",
    "    a، b و c \n",
    "    را به خروجی ببرد.\n",
    "    </h3>\n",
    "</div>\n",
    "    "
   ]
  },
  {
   "cell_type": "code",
   "execution_count": null,
   "metadata": {},
   "outputs": [],
   "source": [
    "a = float(input(\"enter the first number: \"))\n",
    "b = float(input(\"enter the second number: \"))\n",
    "c = float(input(\"enter the third number: \"))\n",
    "\n",
    "# todo ...."
   ]
  },
  {
   "cell_type": "markdown",
   "metadata": {},
   "source": [
    "<div dir=\"rtl\" style=\"color:blue\">\n",
    "    <h3>\n",
    "  برنامه زیر را به گونه ای تکمیل کنید که مقدار دو متغیر \n",
    "        a\n",
    "        و \n",
    "        b \n",
    "        را بدون استفاده از هیچ متغیر کمکی جابجا کند. \n",
    "    </h3>\n",
    "</div>\n",
    "    "
   ]
  },
  {
   "cell_type": "code",
   "execution_count": null,
   "metadata": {},
   "outputs": [],
   "source": [
    "a = float(input(\"enter the first number: \"))\n",
    "b = float(input(\"enter the second number: \"))\n",
    "# todo ...."
   ]
  },
  {
   "cell_type": "markdown",
   "metadata": {},
   "source": [
    "<div dir=\"rtl\" style=\"color:blue\">\n",
    "    <h3>\n",
    "  در سلول زیر برنامه ای بنویسید که صدمین جمله دنباله فیبونانچی را محاسبه و چاپ کند. \n",
    "    </h3>\n",
    "</div>\n",
    "    "
   ]
  },
  {
   "cell_type": "code",
   "execution_count": null,
   "metadata": {},
   "outputs": [],
   "source": [
    "# todo .... "
   ]
  },
  {
   "cell_type": "markdown",
   "metadata": {},
   "source": [
    "<div dir=\"rtl\" style=\"color:blue\">\n",
    "    <h3>\n",
    "  برنامه ای بنویسید که دو میلیونومین عدد اول را چاپ کند.  \n",
    "    </h3>\n",
    "</div>\n",
    "    "
   ]
  },
  {
   "cell_type": "code",
   "execution_count": null,
   "metadata": {},
   "outputs": [],
   "source": [
    "# todo ...."
   ]
  },
  {
   "cell_type": "markdown",
   "metadata": {},
   "source": [
    "<div dir=\"rtl\" style=\"color:blue\">\n",
    "    <h3>\n",
    "  برنامه ای بنویسید که پنجاهمین عدد اول در دنباله فیبونانچی را یافته و چاپ کند. \n",
    "    </h3>\n",
    "</div>\n",
    "    "
   ]
  },
  {
   "cell_type": "code",
   "execution_count": null,
   "metadata": {},
   "outputs": [],
   "source": [
    "# todo ...."
   ]
  },
  {
   "cell_type": "markdown",
   "metadata": {},
   "source": [
    "<div dir=\"rtl\" style=\"color:blue\">\n",
    "    <h3>\n",
    "  برنامه ای بنویسید که دو عدد را از ورودی گرفته و بزرگترین مقسوم علیه مشترک آنها را محاسبه و چاپ کند.  \n",
    "    </h3>\n",
    "</div>\n",
    "    "
   ]
  },
  {
   "cell_type": "code",
   "execution_count": null,
   "metadata": {},
   "outputs": [],
   "source": [
    "# todo ...."
   ]
  },
  {
   "cell_type": "markdown",
   "metadata": {},
   "source": [
    "<div dir=\"rtl\" style=\"color:blue\">\n",
    "    <h3>\n",
    "  برنامه ای بنویسید که دو عدد صحیح را از ورودی گرفته و تعداد اعداد اول مابین این دو عدد را چاپ کند.  \n",
    "    </h3>\n",
    "</div>\n",
    "    "
   ]
  },
  {
   "cell_type": "code",
   "execution_count": null,
   "metadata": {},
   "outputs": [],
   "source": [
    "# todo .... "
   ]
  },
  {
   "cell_type": "markdown",
   "metadata": {},
   "source": [
    "<div dir=\"rtl\" style=\"color:blue\">\n",
    "    <h3>\n",
    "  برنامه ای بنویسید که دو عدد را از ورودی گرفته و تعداد جملات فیبونانچی که مابین این دو عدد قرار می گیرند را چاپ کند.   \n",
    "    </h3>\n",
    "</div>\n",
    "    "
   ]
  },
  {
   "cell_type": "code",
   "execution_count": null,
   "metadata": {},
   "outputs": [],
   "source": [
    "# todo ...."
   ]
  },
  {
   "cell_type": "markdown",
   "metadata": {},
   "source": [
    "<div dir=\"rtl\" style=\"color:blue\">\n",
    "    <h3>\n",
    "  برنامه ای بنویسید که عدد صحیح \n",
    "        n\n",
    "        را از ورودی گرفته و مجموع زیر را محاسبه کرده و به خروجی ببرد:\n",
    "        $$ 1+3+\\dots +(2n+1)$$\n",
    "    </h3>\n",
    "</div>\n",
    "    "
   ]
  },
  {
   "cell_type": "code",
   "execution_count": null,
   "metadata": {},
   "outputs": [],
   "source": [
    "# todo ...."
   ]
  },
  {
   "cell_type": "markdown",
   "metadata": {},
   "source": [
    "<div dir=\"rtl\" style=\"color:blue\">\n",
    "    <h3>\n",
    "  برنامه ای بنویسید که عدد صحیح \n",
    "        n\n",
    "        را از ورودی گرفته \n",
    "        و در صورتی که\n",
    "        n \n",
    "        اول باشد،  \n",
    "        مجموع زیر را محاسبه کرده و به خروجی ببرد:\n",
    "        $$ 1+\\frac{1}{2}+\\frac{1}{4}+\\dots + \\frac{1}{n^2}$$\n",
    "    </h3>\n",
    "</div>\n",
    "    "
   ]
  },
  {
   "cell_type": "code",
   "execution_count": null,
   "metadata": {},
   "outputs": [],
   "source": [
    "# todo ...."
   ]
  },
  {
   "cell_type": "markdown",
   "metadata": {},
   "source": [
    "<div dir=\"rtl\" style=\"color:blue\">\n",
    "    <h3>\n",
    "  برنامه ای بنویسید که عدد صحیح \n",
    "        n\n",
    "        را از ورودی گرفته و \n",
    "        مجموع زیر را محاسبه کرده و به خروجی ببرد:\n",
    "        $$ 1+\\frac{1}{2}+\\frac{2}{4}+\\dots + \\frac{n}{n^2}$$\n",
    "    </h3>\n",
    "</div>\n",
    "    "
   ]
  },
  {
   "cell_type": "code",
   "execution_count": null,
   "metadata": {},
   "outputs": [],
   "source": [
    "# todo ...."
   ]
  },
  {
   "cell_type": "markdown",
   "metadata": {},
   "source": [
    "<div dir=\"rtl\" style=\"color:blue\">\n",
    "    <h3>\n",
    "  برنامه ای بنویسید که عدد صحیح \n",
    "        n\n",
    "        را از ورودی گرفته و \n",
    "        مجموع زیر را محاسبه کرده و به خروجی ببرد:\n",
    "        $$ 1+\\frac{1}{2}+\\frac{2!}{4}+\\dots + \\frac{n!}{n^2}$$\n",
    "    </h3>\n",
    "</div>\n",
    "    "
   ]
  },
  {
   "cell_type": "code",
   "execution_count": null,
   "metadata": {},
   "outputs": [],
   "source": [
    "# todo ...."
   ]
  },
  {
   "cell_type": "markdown",
   "metadata": {},
   "source": [
    "<div dir=\"rtl\" style=\"color:blue\">\n",
    "    <h3>\n",
    "      برنامه ای بنویسید که عدد صحیح \n",
    "        $n\\geq 3$\n",
    "        را از ورودی گرفته و با استفاده از پکیج \n",
    "        لاکپشت، یک \n",
    "        n\n",
    "        ضلعی منظم رسم کند. \n",
    "    </h3>\n",
    "</div>\n",
    "    "
   ]
  },
  {
   "cell_type": "code",
   "execution_count": null,
   "metadata": {},
   "outputs": [],
   "source": [
    "# todo ...."
   ]
  }
 ],
 "metadata": {
  "kernelspec": {
   "display_name": "Python 3",
   "language": "python",
   "name": "python3"
  },
  "language_info": {
   "codemirror_mode": {
    "name": "ipython",
    "version": 3
   },
   "file_extension": ".py",
   "mimetype": "text/x-python",
   "name": "python",
   "nbconvert_exporter": "python",
   "pygments_lexer": "ipython3",
   "version": "3.7.4"
  }
 },
 "nbformat": 4,
 "nbformat_minor": 2
}
